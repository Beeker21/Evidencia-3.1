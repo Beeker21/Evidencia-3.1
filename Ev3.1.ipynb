{
 "cells": [
  {
   "cell_type": "code",
   "execution_count": null,
   "id": "549542ad-1fe8-40c0-94ea-3c3baa9939eb",
   "metadata": {},
   "outputs": [],
   "source": [
    "Evidencia 3.1 crea un programa que serialice a pickle un objeto, y que lo almacene en un archivo binario de extensión pickle. Debe ser posible la recuperación del contenido del archivo, mismo que debe poderse deserializarse, y obtener el objeto original."
   ]
  },
  {
   "cell_type": "code",
   "execution_count": 1,
   "id": "51d69d7e-76e2-4e43-82ba-8f1e5b1a1153",
   "metadata": {},
   "outputs": [
    {
     "name": "stdout",
     "output_type": "stream",
     "text": [
      "Toyota\n",
      "Corolla\n",
      "2021\n"
     ]
    }
   ],
   "source": [
    "#creamos el modulo pickle para poder almacenar informacion o una coleccion\n",
    "import pickle\n",
    "#creamoa la clase automovil con sus atributos con los que lo identificamos\n",
    "class Automovil:\n",
    "    def __init__(self, marca, modelo, year):\n",
    "        self.marca = marca\n",
    "        self.modelo = modelo\n",
    "        self.year = year\n",
    "#despues creamos una variable con el nombre mi_auto\n",
    "#despues utilizamos la funcion pickle para serializar la variable y guardarla en un archivo llamado \"pkl\"\n",
    "#Luego, utilizamos la función pickle.load para deserializar el objeto del archivo \"auto.pkl\" y lo almacenamos en la variable mi_auto_recuperado.\n",
    "mi_auto = Automovil(\"Toyota\", \"Corolla\", 2021)\n",
    "with open(\"auto.pkl\", \"wb\") as f:\n",
    "    pickle.dump(mi_auto, f)\n",
    "with open(\"auto.pkl\", \"rb\") as f:\n",
    "    mi_auto_recuperado = pickle.load(f)\n",
    "\n",
    "print(mi_auto_recuperado.marca) # Imprime: Toyota\n",
    "print(mi_auto_recuperado.modelo) # Imprime: Corolla\n",
    "print(mi_auto_recuperado.year) # Imprime: 2021"
   ]
  }
 ],
 "metadata": {
  "kernelspec": {
   "display_name": "Python 3 (ipykernel)",
   "language": "python",
   "name": "python3"
  },
  "language_info": {
   "codemirror_mode": {
    "name": "ipython",
    "version": 3
   },
   "file_extension": ".py",
   "mimetype": "text/x-python",
   "name": "python",
   "nbconvert_exporter": "python",
   "pygments_lexer": "ipython3",
   "version": "3.11.3"
  }
 },
 "nbformat": 4,
 "nbformat_minor": 5
}
